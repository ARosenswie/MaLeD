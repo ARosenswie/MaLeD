{
 "cells": [
  {
   "cell_type": "code",
   "execution_count": 1,
   "id": "e838000f-9cb0-43c4-9d2a-938fcfc51155",
   "metadata": {},
   "outputs": [],
   "source": [
    "import pandas as pd\n",
    "import seaborn as sns\n",
    "import matplotlib.pyplot as plt\n",
    "from sklearn.model_selection import train_test_split, cross_val_score, GridSearchCV\n",
    "from sklearn.tree import DecisionTreeClassifier\n",
    "from sklearn.ensemble import RandomForestClassifier\n",
    "import xgboost as xgb\n",
    "from sklearn.neural_network import MLPClassifier\n",
    "from sklearn.preprocessing import MinMaxScaler\n",
    "import numpy as np\n",
    "from sklearn.metrics import accuracy_score, precision_score, recall_score, f1_score, confusion_matrix, roc_auc_score, roc_curve, mean_squared_error, mean_absolute_error\n",
    "plt.rcParams[\"font.family\"] = \"serif\"\n",
    "plt.rcParams[\"pdf.fonttype\"] = 42\n",
    "import os"
   ]
  },
  {
   "cell_type": "code",
   "execution_count": 2,
   "id": "e29d5e40-540d-4618-91ef-b09a6851c5d2",
   "metadata": {},
   "outputs": [
    {
     "data": {
      "text/html": [
       "<div>\n",
       "<style scoped>\n",
       "    .dataframe tbody tr th:only-of-type {\n",
       "        vertical-align: middle;\n",
       "    }\n",
       "\n",
       "    .dataframe tbody tr th {\n",
       "        vertical-align: top;\n",
       "    }\n",
       "\n",
       "    .dataframe thead th {\n",
       "        text-align: right;\n",
       "    }\n",
       "</style>\n",
       "<table border=\"1\" class=\"dataframe\">\n",
       "  <thead>\n",
       "    <tr style=\"text-align: right;\">\n",
       "      <th></th>\n",
       "      <th>Pregnancies</th>\n",
       "      <th>Glucose</th>\n",
       "      <th>BloodPressure</th>\n",
       "      <th>SkinThickness</th>\n",
       "      <th>Insulin</th>\n",
       "      <th>BMI</th>\n",
       "      <th>DiabetesPedigreeFunction</th>\n",
       "      <th>Age</th>\n",
       "      <th>Outcome</th>\n",
       "    </tr>\n",
       "  </thead>\n",
       "  <tbody>\n",
       "    <tr>\n",
       "      <th>count</th>\n",
       "      <td>768.000000</td>\n",
       "      <td>768.000000</td>\n",
       "      <td>768.000000</td>\n",
       "      <td>768.000000</td>\n",
       "      <td>768.000000</td>\n",
       "      <td>768.000000</td>\n",
       "      <td>768.000000</td>\n",
       "      <td>768.000000</td>\n",
       "      <td>768.000000</td>\n",
       "    </tr>\n",
       "    <tr>\n",
       "      <th>mean</th>\n",
       "      <td>3.845052</td>\n",
       "      <td>120.894531</td>\n",
       "      <td>69.105469</td>\n",
       "      <td>20.536458</td>\n",
       "      <td>79.799479</td>\n",
       "      <td>31.992578</td>\n",
       "      <td>0.471876</td>\n",
       "      <td>33.240885</td>\n",
       "      <td>0.348958</td>\n",
       "    </tr>\n",
       "    <tr>\n",
       "      <th>std</th>\n",
       "      <td>3.369578</td>\n",
       "      <td>31.972618</td>\n",
       "      <td>19.355807</td>\n",
       "      <td>15.952218</td>\n",
       "      <td>115.244002</td>\n",
       "      <td>7.884160</td>\n",
       "      <td>0.331329</td>\n",
       "      <td>11.760232</td>\n",
       "      <td>0.476951</td>\n",
       "    </tr>\n",
       "    <tr>\n",
       "      <th>min</th>\n",
       "      <td>0.000000</td>\n",
       "      <td>0.000000</td>\n",
       "      <td>0.000000</td>\n",
       "      <td>0.000000</td>\n",
       "      <td>0.000000</td>\n",
       "      <td>0.000000</td>\n",
       "      <td>0.078000</td>\n",
       "      <td>21.000000</td>\n",
       "      <td>0.000000</td>\n",
       "    </tr>\n",
       "    <tr>\n",
       "      <th>25%</th>\n",
       "      <td>1.000000</td>\n",
       "      <td>99.000000</td>\n",
       "      <td>62.000000</td>\n",
       "      <td>0.000000</td>\n",
       "      <td>0.000000</td>\n",
       "      <td>27.300000</td>\n",
       "      <td>0.243750</td>\n",
       "      <td>24.000000</td>\n",
       "      <td>0.000000</td>\n",
       "    </tr>\n",
       "    <tr>\n",
       "      <th>50%</th>\n",
       "      <td>3.000000</td>\n",
       "      <td>117.000000</td>\n",
       "      <td>72.000000</td>\n",
       "      <td>23.000000</td>\n",
       "      <td>30.500000</td>\n",
       "      <td>32.000000</td>\n",
       "      <td>0.372500</td>\n",
       "      <td>29.000000</td>\n",
       "      <td>0.000000</td>\n",
       "    </tr>\n",
       "    <tr>\n",
       "      <th>75%</th>\n",
       "      <td>6.000000</td>\n",
       "      <td>140.250000</td>\n",
       "      <td>80.000000</td>\n",
       "      <td>32.000000</td>\n",
       "      <td>127.250000</td>\n",
       "      <td>36.600000</td>\n",
       "      <td>0.626250</td>\n",
       "      <td>41.000000</td>\n",
       "      <td>1.000000</td>\n",
       "    </tr>\n",
       "    <tr>\n",
       "      <th>max</th>\n",
       "      <td>17.000000</td>\n",
       "      <td>199.000000</td>\n",
       "      <td>122.000000</td>\n",
       "      <td>99.000000</td>\n",
       "      <td>846.000000</td>\n",
       "      <td>67.100000</td>\n",
       "      <td>2.420000</td>\n",
       "      <td>81.000000</td>\n",
       "      <td>1.000000</td>\n",
       "    </tr>\n",
       "  </tbody>\n",
       "</table>\n",
       "</div>"
      ],
      "text/plain": [
       "       Pregnancies     Glucose  BloodPressure  SkinThickness     Insulin   \n",
       "count   768.000000  768.000000     768.000000     768.000000  768.000000  \\\n",
       "mean      3.845052  120.894531      69.105469      20.536458   79.799479   \n",
       "std       3.369578   31.972618      19.355807      15.952218  115.244002   \n",
       "min       0.000000    0.000000       0.000000       0.000000    0.000000   \n",
       "25%       1.000000   99.000000      62.000000       0.000000    0.000000   \n",
       "50%       3.000000  117.000000      72.000000      23.000000   30.500000   \n",
       "75%       6.000000  140.250000      80.000000      32.000000  127.250000   \n",
       "max      17.000000  199.000000     122.000000      99.000000  846.000000   \n",
       "\n",
       "              BMI  DiabetesPedigreeFunction         Age     Outcome  \n",
       "count  768.000000                768.000000  768.000000  768.000000  \n",
       "mean    31.992578                  0.471876   33.240885    0.348958  \n",
       "std      7.884160                  0.331329   11.760232    0.476951  \n",
       "min      0.000000                  0.078000   21.000000    0.000000  \n",
       "25%     27.300000                  0.243750   24.000000    0.000000  \n",
       "50%     32.000000                  0.372500   29.000000    0.000000  \n",
       "75%     36.600000                  0.626250   41.000000    1.000000  \n",
       "max     67.100000                  2.420000   81.000000    1.000000  "
      ]
     },
     "execution_count": 2,
     "metadata": {},
     "output_type": "execute_result"
    }
   ],
   "source": [
    "df_original = pd.read_csv(\"../diabetic_data/data/diabetes.csv\")\n",
    "df_original.shape\n",
    "df_original.describe()"
   ]
  },
  {
   "cell_type": "markdown",
   "id": "cfedddff-bee4-4438-95d5-893d90f032de",
   "metadata": {},
   "source": [
    "# Since we are interested in classifiying those whom are diabetic, we will use the \"Outcome\" as our target variable."
   ]
  },
  {
   "cell_type": "code",
   "execution_count": 3,
   "id": "aff2dc0c-d763-4949-899d-77e031c2f842",
   "metadata": {},
   "outputs": [],
   "source": [
    "df_diabetics = df_original[df_original['Outcome'] == 1]\n",
    "df_non_diabetics = df_original[df_original['Outcome'] == 0]"
   ]
  },
  {
   "cell_type": "code",
   "execution_count": 4,
   "id": "2831885d-7737-42d5-8f92-0270fe3d4556",
   "metadata": {},
   "outputs": [
    {
     "name": "stdout",
     "output_type": "stream",
     "text": [
      "(268, 9)\n",
      "(500, 9)\n"
     ]
    }
   ],
   "source": [
    "print(df_diabetics.shape)\n",
    "print(df_non_diabetics.shape)"
   ]
  },
  {
   "cell_type": "code",
   "execution_count": 5,
   "id": "9162f8bb-21b6-4d3b-9ad6-4676a56488f0",
   "metadata": {},
   "outputs": [],
   "source": [
    "# Convert target variable to binary variable\n",
    "threshold = 0.5 # Define a threshold value for the target variable\n",
    "df_original[\"Outcome\"] = df_original[\"Outcome\"].apply(lambda x: 1 if x >= threshold else 0)"
   ]
  },
  {
   "cell_type": "code",
   "execution_count": 6,
   "id": "ffd5bbd4-bfd9-40d1-bbc6-6b8c0b2194dd",
   "metadata": {},
   "outputs": [],
   "source": [
    "Y = df_original['Outcome']\n",
    "X = df_original.drop('Outcome', axis=1)"
   ]
  },
  {
   "cell_type": "code",
   "execution_count": 7,
   "id": "84aa8cc4-1ab4-436b-b465-946cf2228a87",
   "metadata": {},
   "outputs": [
    {
     "data": {
      "image/png": "[encoded data removed]",
      "text/plain": [
       "<Figure size 432x288 with 2 Axes>"
      ]
     },
     "metadata": {
      "needs_background": "light"
     },
     "output_type": "display_data"
    }
   ],
   "source": [
    "cor_matrix = X.corr()\n",
    "sns.heatmap(cor_matrix, annot=False, cmap = \"ocean\");"
   ]
  },
  {
   "cell_type": "markdown",
   "id": "524d90e2-5848-4e51-ac28-fc8a2a053fa7",
   "metadata": {},
   "source": [
    "## Split the data into training, validation, and testing datasets."
   ]
  },
  {
   "cell_type": "markdown",
   "id": "a27e61bc-1b09-478d-bbe0-532542fd1534",
   "metadata": {},
   "source": [
    "In the following cell, we will follow the methodology used from David Landup in https://stackabuse.com/scikit-learns-traintestsplit-training-testing-and-validation-sets/. \n",
    "\n",
    "\"To split the data proportionally into a training, testing and validation set - we need to set the $test$ argument to\"\n",
    "$$\n",
    "test = \\frac{validation}{train+test}.\n",
    "$$\n",
    "\n",
    "This will allow for the creation of the $train$, $validation$, and $test$ dataset to be seperated into specified sizes."
   ]
  },
  {
   "cell_type": "code",
   "execution_count": 8,
   "id": "a01fa24d-2706-415a-a03e-1e21ccff710e",
   "metadata": {},
   "outputs": [],
   "source": [
    "# Split the data into train, validation, and test sets\n",
    "train_ratio = 0.70\n",
    "test_ratio = 0.15\n",
    "validation_ratio = 0.15\n",
    "\n",
    "X_train, X_test, Y_train, Y_test = train_test_split(X, Y, test_size=test_ratio)\n",
    "X_train, X_valid, Y_train, Y_valid = train_test_split(X_train, Y_train, test_size=validation_ratio/(train_ratio+test_ratio))"
   ]
  },
  {
   "cell_type": "markdown",
   "id": "5e61c629-e4c4-405a-8451-0e472b5a836c",
   "metadata": {},
   "source": [
    "## Choose Decision Tree Classifier."
   ]
  },
  {
   "cell_type": "code",
   "execution_count": 9,
   "id": "0d33cf4b-afdc-42c0-8501-e62f968876c5",
   "metadata": {},
   "outputs": [
    {
     "name": "stdout",
     "output_type": "stream",
     "text": [
      "Best Hyperparameters:  {'criterion': 'entropy', 'max_depth': 5, 'max_features': None}\n",
      "\n",
      "Validation's RMSE: 0.572\n",
      "Validation's MAE: 0.328\n",
      "Validation's Acc: 0.672\n",
      "\n",
      "Test's RMSE: 0.533\n",
      "Test's MAE: 0.284\n",
      "Test's Acc: 0.569\n"
     ]
    }
   ],
   "source": [
    "dt_model = DecisionTreeClassifier()\n",
    "param_grid = {\n",
    "    \"criterion\": [\"gini\", \"entropy\"],\n",
    "    'max_depth': [5, 10, 15],\n",
    "    'max_features':[\"sqrt\", \"log2\", None]\n",
    "}\n",
    "\n",
    "grid_search_dt = GridSearchCV(dt_model, param_grid, cv=5)\n",
    "# fit the grid search object to the training data\n",
    "grid_search_dt.fit(X_train, Y_train)\n",
    "\n",
    "# get the best hyperparameters\n",
    "best_params_dt = grid_search_dt.best_params_\n",
    "\n",
    "# create a new random forest regressor with the best hyperparameters\n",
    "dt_model = DecisionTreeClassifier(max_depth=best_params_dt['max_depth'], criterion=best_params_dt[\"criterion\"])\n",
    "\n",
    "# fit the model to the training data\n",
    "dt_model.fit(X_train, Y_train)\n",
    "\n",
    "# generate predictions on the training data\n",
    "dt_train_pred = dt_model.predict(X_train)\n",
    "\n",
    "# evaluate the model on the validation data\n",
    "dt_valid_pred = dt_model.predict(X_valid)\n",
    "\n",
    "# generate predictions on the testing data\n",
    "dt_test_pred = dt_model.predict(X_test)\n",
    "\n",
    "rmse_dt_valid = mean_squared_error(Y_valid, dt_valid_pred, squared=False)\n",
    "mae_dt_valid = mean_absolute_error(Y_valid, dt_valid_pred)\n",
    "rmse_dt_test = mean_squared_error(Y_test, dt_test_pred, squared=False)\n",
    "mae_dt_test= mean_absolute_error(Y_test, dt_test_pred)\n",
    "\n",
    "accuracy_dt_valid = accuracy_score(Y_valid, dt_valid_pred)\n",
    "accuracy_dt_test = accuracy_score(Y_valid, dt_test_pred)\n",
    "\n",
    "print(\"Best Hyperparameters: \", best_params_dt)\n",
    "print(\"\\nValidation's RMSE: {:.3f}\".format(rmse_dt_valid))\n",
    "print(\"Validation's MAE: {:.3f}\".format(mae_dt_valid))\n",
    "print(\"Validation's Acc: {:.3f}\\n\".format(accuracy_dt_valid))\n",
    "\n",
    "print(\"Test's RMSE: {:.3f}\".format(rmse_dt_test))\n",
    "print(\"Test's MAE: {:.3f}\".format(mae_dt_test))\n",
    "print(\"Test's Acc: {:.3f}\".format(accuracy_dt_test))\n"
   ]
  },
  {
   "cell_type": "code",
   "execution_count": 10,
   "id": "50602836-5430-49bb-a3ce-f823f9ab288c",
   "metadata": {},
   "outputs": [
    {
     "name": "stdout",
     "output_type": "stream",
     "text": [
      "Best Hyperparameters:  {'criterion': 'gini', 'max_depth': 5, 'n_estimators': 100}\n",
      "\n",
      "Validation's RMSE: 0.464\n",
      "Validation's MAE: 0.216\n",
      "Validation's Acc: 0.784\n",
      "\n",
      "Test's RMSE: 0.473\n",
      "Test's MAE: 0.224\n",
      "Test's Acc: 0.595\n"
     ]
    }
   ],
   "source": [
    "rf_model = RandomForestClassifier()\n",
    "param_grid_rf = {\n",
    "    \"criterion\": [\"gini\", \"entropy\"],\n",
    "    'n_estimators': [100, 500, 1000],\n",
    "    'max_depth': [5, 10, 15]\n",
    "}\n",
    "\n",
    "grid_search_rf = GridSearchCV(rf_model, param_grid_rf, cv=5)\n",
    "# fit the grid search object to the training data\n",
    "grid_search_rf.fit(X_train, Y_train)\n",
    "\n",
    "# get the best hyperparameters\n",
    "best_params_rf = grid_search_rf.best_params_\n",
    "\n",
    "# create a new random forest regressor with the best hyperparameters\n",
    "rf_model = RandomForestClassifier(n_estimators=best_params_rf['n_estimators'], max_depth=best_params_rf['max_depth'], criterion=best_params_rf[\"criterion\"])\n",
    "\n",
    "# fit the model to the training data\n",
    "rf_model.fit(X_train, Y_train)\n",
    "\n",
    "# generate predictions on the training data\n",
    "rf_train_pred = rf_model.predict(X_train)\n",
    "\n",
    "# evaluate the model on the validation data\n",
    "rf_valid_pred = rf_model.predict(X_valid)\n",
    "\n",
    "# generate predictions on the testing data\n",
    "rf_test_pred = rf_model.predict(X_test)\n",
    "\n",
    "rmse_rf_valid = mean_squared_error(Y_valid, rf_valid_pred, squared=False)\n",
    "mae_rf_valid = mean_absolute_error(Y_valid, rf_valid_pred)\n",
    "rmse_rf_test = mean_squared_error(Y_test, rf_test_pred, squared=False)\n",
    "mae_rf_test= mean_absolute_error(Y_test, rf_test_pred)\n",
    "\n",
    "accuracy_rf_valid = accuracy_score(Y_valid, rf_valid_pred)\n",
    "accuracy_rf_test = accuracy_score(Y_valid, rf_test_pred)\n",
    "\n",
    "print(\"Best Hyperparameters: \", best_params_rf)\n",
    "print(\"\\nValidation's RMSE: {:.3f}\".format(rmse_rf_valid))\n",
    "print(\"Validation's MAE: {:.3f}\".format(mae_rf_valid))\n",
    "print(\"Validation's Acc: {:.3f}\\n\".format(accuracy_rf_valid))\n",
    "\n",
    "print(\"Test's RMSE: {:.3f}\".format(rmse_rf_test))\n",
    "print(\"Test's MAE: {:.3f}\".format(mae_rf_test))\n",
    "print(\"Test's Acc: {:.3f}\".format(accuracy_rf_test))"
   ]
  },
  {
   "cell_type": "markdown",
   "id": "823cbb68-ae40-4a7e-aa50-d79afa347831",
   "metadata": {},
   "source": [
    "# eXtreme Gradient Boosting (XGB) modeling."
   ]
  },
  {
   "cell_type": "code",
   "execution_count": 11,
   "id": "4afaddad-d9cf-4b75-a40b-0a4bfff1acc4",
   "metadata": {},
   "outputs": [
    {
     "name": "stdout",
     "output_type": "stream",
     "text": [
      "Best Hyperparameters:  {'colsample_bytree': 0.5, 'learning_rate': 0.01, 'max_depth': 3, 'n_estimators': 1000}\n",
      "\n",
      "Validation's RMSE: 0.473\n",
      "Validation's MAE: 0.224\n",
      "Validation's Acc: 0.776\n",
      "\n",
      "Test's RMSE: 0.464\n",
      "Test's MAE: 0.216\n",
      "Test's Acc: 0.569\n",
      "\n"
     ]
    }
   ],
   "source": [
    "# Define the XGBoost model\n",
    "xgb_model = xgb.XGBClassifier()\n",
    "\n",
    "# Define the hyperparameter grid\n",
    "param_grid_xgb = {\n",
    "    'n_estimators': [100, 500, 1000],\n",
    "    'learning_rate': [0.01, 0.05, 0.1],\n",
    "    'max_depth': [3, 6, 9],\n",
    "    'colsample_bytree': [0.5, 0.7, 1.0],\n",
    "}\n",
    "\n",
    "# Perform grid search\n",
    "grid_search_xgb = GridSearchCV(\n",
    "    estimator=xgb_model,\n",
    "    param_grid=param_grid_xgb,\n",
    "    cv=5\n",
    ")\n",
    "\n",
    "grid_search_xgb.fit(X_train, Y_train, verbose=False)\n",
    "\n",
    "# Get the best hyperparameters\n",
    "best_params_xgb = grid_search_xgb.best_params_\n",
    "\n",
    "# Create a new XGBoost model with the best hyperparameters\n",
    "xgb_model = xgb.XGBClassifier(\n",
    "    n_estimators=best_params_xgb['n_estimators'],\n",
    "    learning_rate=best_params_xgb['learning_rate'],\n",
    "    max_depth=best_params_xgb['max_depth'],\n",
    "    colsample_bytree=best_params_xgb['colsample_bytree']\n",
    ")\n",
    "\n",
    "# Fit the model with the best hyperparameters on the training data\n",
    "xgb_model.fit(X_train, Y_train, verbose=False)\n",
    "\n",
    "# Generate predictions on the training data\n",
    "xgb_train_pred = xgb_model.predict(X_train)\n",
    "\n",
    "# Generate predictions on the validation data\n",
    "xgb_valid_pred = xgb_model.predict(X_valid)\n",
    "\n",
    "# generate predictions on the testing data\n",
    "xgb_test_pred = xgb_model.predict(X_test)\n",
    "\n",
    "# Evaluate the model on the validation data\n",
    "rmse_xgb_valid = mean_squared_error(Y_valid, xgb_valid_pred, squared=False)\n",
    "mae_xgb_valid = mean_absolute_error(Y_valid, xgb_valid_pred)\n",
    "\n",
    "# Evaluate the model on the testing data\n",
    "rmse_xgb_test = mean_squared_error(Y_test, xgb_test_pred, squared=False)\n",
    "mae_xgb_test= mean_absolute_error(Y_test, xgb_test_pred)\n",
    "\n",
    "accuracy_xgb_valid = accuracy_score(Y_valid, xgb_valid_pred)\n",
    "accuracy_xgb_test = accuracy_score(Y_valid, xgb_test_pred)\n",
    "\n",
    "# Print the results\n",
    "print(\"Best Hyperparameters: \", best_params_xgb)\n",
    "print(\"\\nValidation's RMSE: {:.3f}\".format(rmse_xgb_valid))\n",
    "print(\"Validation's MAE: {:.3f}\".format(mae_xgb_valid))\n",
    "print(\"Validation's Acc: {:.3f}\\n\".format(accuracy_xgb_valid))\n",
    "\n",
    "print(\"Test's RMSE: {:.3f}\".format(rmse_xgb_test))\n",
    "print(\"Test's MAE: {:.3f}\".format(mae_xgb_test))\n",
    "print(\"Test's Acc: {:.3f}\\n\".format(accuracy_xgb_test))"
   ]
  },
  {
   "cell_type": "code",
   "execution_count": 12,
   "id": "769321dd-8248-4609-ba51-f57c66885ab4",
   "metadata": {},
   "outputs": [
    {
     "name": "stdout",
     "output_type": "stream",
     "text": [
      "Best Hyperparameters:  {'activation': 'logistic', 'alpha': 0.01, 'hidden_layer_sizes': (32, 16), 'max_iter': 3000}\n",
      "\n",
      "Validation's RMSE: 0.525\n",
      "Validation's MAE: 0.276\n",
      "Validation's Acc: 0.724\n",
      "\n",
      "Test's RMSE: 0.435\n",
      "Test's MAE: 0.190\n",
      "Test's Acc: 0.629\n",
      "\n"
     ]
    }
   ],
   "source": [
    "# Define the MLPClassifier model\n",
    "NN_model = MLPClassifier()\n",
    "\n",
    "# Define the hyperparameter grid\n",
    "param_grid_NN = {\n",
    "    'hidden_layer_sizes': [(64,), (32, 16), (64, 32, 16)],\n",
    "    'max_iter': [1000, 2000, 3000],\n",
    "    'alpha': [0.1, 0.01, 0.001],\n",
    "    'activation': ['relu', 'tanh', 'logistic']\n",
    "}\n",
    "\n",
    "# Perform grid search\n",
    "grid_search_NN = GridSearchCV(\n",
    "    estimator=NN_model,\n",
    "    param_grid=param_grid_NN,\n",
    "    cv=5\n",
    ")\n",
    "\n",
    "grid_search_NN.fit(X_train, Y_train)\n",
    "\n",
    "# Get the best hyperparameters\n",
    "best_params_NN = grid_search_NN.best_params_\n",
    "\n",
    "# Create a new MLPClassifier model with the best hyperparameters\n",
    "NN_model = MLPClassifier(\n",
    "    hidden_layer_sizes=best_params_NN['hidden_layer_sizes'],\n",
    "    max_iter=best_params_NN['max_iter'],\n",
    "    alpha=best_params_NN['alpha'],\n",
    "    activation=best_params_NN['activation']\n",
    ")\n",
    "\n",
    "# Fit the model with the best hyperparameters on the training data\n",
    "NN_model.fit(X_train, Y_train)\n",
    "\n",
    "# Generate predictions on the training data\n",
    "NN_train_pred = NN_model.predict(X_train)\n",
    "\n",
    "# Generate predictions on the validation data\n",
    "NN_valid_pred = NN_model.predict(X_valid)\n",
    "\n",
    "# generate predictions on the testing data\n",
    "NN_test_pred = NN_model.predict(X_test)\n",
    "\n",
    "# Evaluate the model on the validation data\n",
    "rmse_NN_valid = mean_squared_error(Y_valid, NN_valid_pred, squared=False)\n",
    "mae_NN_valid = mean_absolute_error(Y_valid, NN_valid_pred)\n",
    "\n",
    "# Evaluate the model on the testing data\n",
    "rmse_NN_test = mean_squared_error(Y_test, NN_test_pred, squared=False)\n",
    "mae_NN_test = mean_absolute_error(Y_test, NN_test_pred)\n",
    "\n",
    "accuracy_NN_valid = accuracy_score(Y_valid, NN_valid_pred)\n",
    "accuracy_NN_test = accuracy_score(Y_valid, NN_test_pred)\n",
    "\n",
    "# Print the results\n",
    "print(\"Best Hyperparameters: \", best_params_NN)\n",
    "print(\"\\nValidation's RMSE: {:.3f}\".format(rmse_NN_valid))\n",
    "print(\"Validation's MAE: {:.3f}\".format(mae_NN_valid))\n",
    "print(\"Validation's Acc: {:.3f}\\n\".format(accuracy_NN_valid))\n",
    "\n",
    "print(\"Test's RMSE: {:.3f}\".format(rmse_NN_test))\n",
    "print(\"Test's MAE: {:.3f}\".format(mae_NN_test))\n",
    "print(\"Test's Acc: {:.3f}\\n\".format(accuracy_NN_test))"
   ]
  },
  {
   "cell_type": "markdown",
   "id": "fada6c44-f2a3-4f37-b1af-95f3e2f41721",
   "metadata": {},
   "source": [
    "## Plot the RMSE and MAE values for the Validation and Testing dataset."
   ]
  },
  {
   "cell_type": "code",
   "execution_count": 27,
   "id": "0584ee24-e575-4e52-9f31-a89e9f93fa27",
   "metadata": {},
   "outputs": [
    {
     "data": {
      "image/png": "[encoded data removed]",
      "text/plain": [
       "<Figure size 864x720 with 3 Axes>"
      ]
     },
     "metadata": {
      "needs_background": "light"
     },
     "output_type": "display_data"
    }
   ],
   "source": [
    "rmse_valid = [rmse_dt_valid, rmse_rf_valid, rmse_xgb_valid, rmse_NN_valid]\n",
    "mae_valid = [mae_dt_valid, mae_rf_valid, mae_xgb_valid, mae_NN_valid]\n",
    "\n",
    "rmse_test = [rmse_dt_test, rmse_rf_test, rmse_xgb_test, rmse_NN_test]\n",
    "mae_test = [mae_dt_test, mae_rf_test, mae_xgb_test, mae_NN_test]\n",
    "\n",
    "acc_valid = [accuracy_dt_valid, accuracy_rf_valid, accuracy_xgb_valid, accuracy_NN_valid]\n",
    "acc_test = [accuracy_dt_test, accuracy_rf_test, accuracy_xgb_test, accuracy_NN_test]\n",
    "\n",
    "model_labels = ['Decision Tree', 'Random Forest', 'XGB', 'Neural Network']\n",
    "\n",
    "train_positions = np.arange(len(model_labels))\n",
    "bar_width = 0.2  # Width of each bar\n",
    "\n",
    "plt.figure(figsize=(12, 10))\n",
    "\n",
    "ax1 = plt.subplot(1, 3, 1)\n",
    "ax1.bar(train_positions - bar_width/2, rmse_valid, color='blue', width=bar_width, label='Validation')\n",
    "ax1.bar(train_positions + bar_width/2, rmse_test, color='red', width=bar_width, label='Test')\n",
    "ax1.set_title('RMSE of Validation and Test Sets', fontsize=12)\n",
    "ax1.set_ylabel('RMSE', fontsize=12)\n",
    "ax1.set_ylim(0, 1)\n",
    "ax1.set_xticks(train_positions)\n",
    "ax1.set_xticklabels(model_labels, fontsize=12, rotation=45)\n",
    "ax1.legend(loc=\"best\")\n",
    "ax1.minorticks_on()\n",
    "ax1.tick_params(top=True, right=True, which='both', direction='in', length=8)\n",
    "ax1.tick_params(top=True, right=True, which='minor', direction='in', length=4)\n",
    "\n",
    "ax2 = plt.subplot(1, 3, 2)\n",
    "ax2.bar(train_positions - bar_width/2, mae_valid, color='blue', width=bar_width, label='Validation')\n",
    "ax2.bar(train_positions + bar_width/2, mae_test, color='red', width=bar_width, label='Test')\n",
    "ax2.set_title('MAE of Validation and Test Sets', fontsize=12)\n",
    "ax2.set_ylabel('MAE', fontsize=12)\n",
    "ax2.set_ylim(0, 1)\n",
    "ax2.set_xticks(train_positions)\n",
    "ax2.set_xticklabels(model_labels, fontsize=12, rotation=45)\n",
    "ax2.legend(loc=\"best\")\n",
    "ax2.minorticks_on()\n",
    "ax2.tick_params(top=True, right=True, which='both', direction='in', length=8)\n",
    "ax2.tick_params(top=True, right=True, which='minor', direction='in', length=4)\n",
    "\n",
    "ax3 = plt.subplot(1, 3, 3)\n",
    "ax3.bar(train_positions - bar_width/2, acc_valid, color='blue', width=bar_width, label='Validation')\n",
    "ax3.bar(train_positions + bar_width/2, acc_test, color='red', width=bar_width, label='Test')\n",
    "ax3.set_title('Accuracy of Validation and Test Sets', fontsize=12)\n",
    "ax3.set_ylabel('Acc. (%)', fontsize=12)\n",
    "ax3.set_ylim(0, 1)\n",
    "ax3.set_xticks(train_positions)\n",
    "ax3.set_xticklabels(model_labels, fontsize=12, rotation=45)\n",
    "ax3.legend(loc=\"best\")\n",
    "ax3.minorticks_on()\n",
    "ax3.tick_params(top=True, right=True, which='both', direction='in', length=8)\n",
    "ax3.tick_params(top=True, right=True, which='minor', direction='in', length=4)\n",
    "\n",
    "plt.tight_layout()\n",
    "plt.show()"
   ]
  },
  {
   "cell_type": "code",
   "execution_count": 21,
   "id": "487651b3-7754-4ed6-a188-970e1c0e828c",
   "metadata": {},
   "outputs": [
    {
     "name": "stdout",
     "output_type": "stream",
     "text": [
      "Accuracy: 0.784\n",
      "Precision: 0.759\n",
      "Recall: 0.550\n",
      "F1-Score: 0.638\n",
      "RMSE: 0.464\n",
      "MAE: 0.216\n",
      "Train AUC: 0.941\n",
      "Valid AUC: 0.852\n",
      "Mean CV score: 0.758\n",
      "Confusion matrix:\n",
      " [[69  7]\n",
      " [18 22]]\n"
     ]
    }
   ],
   "source": [
    "Y_train_proba = rf_model.predict_proba(X_train)[:, 1] # Probability of positive class\n",
    "Y_valid_proba = rf_model.predict_proba(X_valid)[:, 1] # Probability of positive class\n",
    "\n",
    "# Calculate evaluation metrics for the validation dataset\n",
    "accuracy = accuracy_score(Y_valid, rf_valid_pred)\n",
    "precision = precision_score(Y_valid, rf_valid_pred, average=\"binary\")\n",
    "recall = recall_score(Y_valid, rf_valid_pred, average=\"binary\")\n",
    "f1 = f1_score(Y_valid, rf_valid_pred, average=\"binary\")\n",
    "train_auc = roc_auc_score(Y_train, Y_train_proba)\n",
    "valid_auc = roc_auc_score(Y_valid, Y_valid_proba)\n",
    "conf_matrix = confusion_matrix(Y_valid, rf_valid_pred)\n",
    "cv_scores = cross_val_score(rf_model, X, Y, cv=5)\n",
    "rmse = mean_squared_error(Y_valid, rf_valid_pred, squared=False) \n",
    "mae = mean_absolute_error(Y_valid, rf_valid_pred)\n",
    "\n",
    "#Print the evaluation metrics\n",
    "print(\"Accuracy: {:.3f}\".format(accuracy))\n",
    "print(\"Precision: {:.3f}\".format(precision))\n",
    "print(\"Recall: {:.3f}\".format(recall))\n",
    "print(\"F1-Score: {:.3f}\".format(f1))\n",
    "print(\"RMSE: {:.3f}\".format(rmse))\n",
    "print(\"MAE: {:.3f}\".format(mae))\n",
    "print(\"Train AUC: {:.3f}\".format(train_auc))\n",
    "print(\"Valid AUC: {:.3f}\".format(valid_auc))\n",
    "print('Mean CV score: {:.3f}'.format(cv_scores.mean()))\n",
    "print(\"Confusion matrix:\\n\", conf_matrix)"
   ]
  },
  {
   "cell_type": "code",
   "execution_count": 26,
   "id": "defbbcd3-0933-46db-a01d-f9436176e94d",
   "metadata": {},
   "outputs": [
    {
     "data": {
      "image/png": "[encoded data removed]",
      "text/plain": [
       "<Figure size 576x576 with 1 Axes>"
      ]
     },
     "metadata": {
      "needs_background": "light"
     },
     "output_type": "display_data"
    }
   ],
   "source": [
    "fig, ax = plt.subplots(figsize=(8, 8))\n",
    "# Compute the false positive rate, true positive rate, and threshold values required for plotting the ROC curve\n",
    "fpr, tpr, thresholds = roc_curve(Y_valid, rf_valid_pred)\n",
    "\n",
    "# Plot the ROC curve\n",
    "plt.plot(fpr, tpr, label='AUC = {:.3f}'.format(valid_auc), color=\"blue\")\n",
    "plt.plot([0, 1], [0, 1], linestyle='--', label='Random Classifier', color=\"red\")\n",
    "plt.xlabel('False Positive Rate', fontsize=12)\n",
    "\n",
    "ax.minorticks_on()\n",
    "ax.xaxis.set_ticks_position(\"both\")\n",
    "ax.tick_params(top=True, right=True, which='major', direction='in', length=8, labelbottom=True, labeltop=False)\n",
    "ax.tick_params(top=True, right=True, which='minor', direction='in', length=4)\n",
    "ax.set_ylim(0,1.01)\n",
    "ax.set_xlim(-0.01,1)\n",
    "plt.ylabel('True Positive Rate', fontsize=12)\n",
    "plt.title('Receiver Operating Characteristic (ROC) Curve', fontsize=12)\n",
    "plt.legend(loc=\"lower right\", frameon=False)\n",
    "fig.tight_layout()\n",
    "plt.show();"
   ]
  },
  {
   "cell_type": "code",
   "execution_count": null,
   "id": "9eb3c243-0206-48c3-abd7-14071bc6183a",
   "metadata": {},
   "outputs": [],
   "source": []
  }
 ],
 "metadata": {
  "kernelspec": {
   "display_name": "Python 3 (ipykernel)",
   "language": "python",
   "name": "python3"
  },
  "language_info": {
   "codemirror_mode": {
    "name": "ipython",
    "version": 3
   },
   "file_extension": ".py",
   "mimetype": "text/x-python",
   "name": "python",
   "nbconvert_exporter": "python",
   "pygments_lexer": "ipython3",
   "version": "3.9.12"
  }
 },
 "nbformat": 4,
 "nbformat_minor": 5
}
